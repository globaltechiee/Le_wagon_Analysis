{
 "cells": [
  {
   "cell_type": "markdown",
   "metadata": {},
   "source": [
    "# Data Sourcing"
   ]
  },
  {
   "cell_type": "code",
   "execution_count": 1,
   "metadata": {},
   "outputs": [],
   "source": [
    "import requests"
   ]
  },
  {
   "cell_type": "code",
   "execution_count": 30,
   "metadata": {},
   "outputs": [],
   "source": [
    "url = \"https://www.metaweather.com/api/location/search/?query=lisbon\""
   ]
  },
  {
   "cell_type": "code",
   "execution_count": 31,
   "metadata": {},
   "outputs": [],
   "source": [
    "response = requests.get(url)"
   ]
  },
  {
   "cell_type": "code",
   "execution_count": 32,
   "metadata": {},
   "outputs": [
    {
     "data": {
      "text/plain": [
       "200"
      ]
     },
     "execution_count": 32,
     "metadata": {},
     "output_type": "execute_result"
    }
   ],
   "source": [
    "response.status_code"
   ]
  },
  {
   "cell_type": "code",
   "execution_count": 33,
   "metadata": {},
   "outputs": [],
   "source": [
    "data = response.json()"
   ]
  },
  {
   "cell_type": "code",
   "execution_count": 34,
   "metadata": {},
   "outputs": [],
   "source": [
    "woeid = data[0]['woeid']"
   ]
  },
  {
   "cell_type": "code",
   "execution_count": 35,
   "metadata": {},
   "outputs": [
    {
     "data": {
      "text/plain": [
       "'https://www.metaweather.com/api/location/742676/'"
      ]
     },
     "execution_count": 35,
     "metadata": {},
     "output_type": "execute_result"
    }
   ],
   "source": [
    "weather_url = f\"https://www.metaweather.com/api/location/{woeid}/\""
   ]
  },
  {
   "cell_type": "code",
   "execution_count": 36,
   "metadata": {},
   "outputs": [],
   "source": [
    "weather_response = requests.get(weather_url)\n",
    "weather_data = weather_response.json()"
   ]
  },
  {
   "cell_type": "code",
   "execution_count": 37,
   "metadata": {},
   "outputs": [
    {
     "data": {
      "text/plain": [
       "{'consolidated_weather': [{'id': 4614984370749440,\n",
       "   'weather_state_name': 'Heavy Cloud',\n",
       "   'weather_state_abbr': 'hc',\n",
       "   'wind_direction_compass': 'N',\n",
       "   'created': '2020-11-04T10:40:50.354707Z',\n",
       "   'applicable_date': '2020-11-04',\n",
       "   'min_temp': 11.535,\n",
       "   'max_temp': 14.74,\n",
       "   'the_temp': 15.504999999999999,\n",
       "   'wind_speed': 8.473419586107797,\n",
       "   'wind_direction': 9.0,\n",
       "   'air_pressure': 1018.5,\n",
       "   'humidity': 59,\n",
       "   'visibility': 14.269789429730375,\n",
       "   'predictability': 71},\n",
       "  {'id': 5706962525224960,\n",
       "   'weather_state_name': 'Light Rain',\n",
       "   'weather_state_abbr': 'lr',\n",
       "   'wind_direction_compass': 'SE',\n",
       "   'created': '2020-11-04T10:40:53.364107Z',\n",
       "   'applicable_date': '2020-11-05',\n",
       "   'min_temp': 11.445,\n",
       "   'max_temp': 17.875,\n",
       "   'the_temp': 18.14,\n",
       "   'wind_speed': 9.046109174339193,\n",
       "   'wind_direction': 133.67822647687996,\n",
       "   'air_pressure': 1010.0,\n",
       "   'humidity': 72,\n",
       "   'visibility': 10.72579883480474,\n",
       "   'predictability': 75},\n",
       "  {'id': 5627213673136128,\n",
       "   'weather_state_name': 'Heavy Rain',\n",
       "   'weather_state_abbr': 'hr',\n",
       "   'wind_direction_compass': 'SE',\n",
       "   'created': '2020-11-04T10:40:56.293120Z',\n",
       "   'applicable_date': '2020-11-06',\n",
       "   'min_temp': 13.515,\n",
       "   'max_temp': 16.015,\n",
       "   'the_temp': 16.165,\n",
       "   'wind_speed': 7.883805591744213,\n",
       "   'wind_direction': 139.00183529164,\n",
       "   'air_pressure': 1006.5,\n",
       "   'humidity': 88,\n",
       "   'visibility': 4.737333969617434,\n",
       "   'predictability': 77},\n",
       "  {'id': 4955240437645312,\n",
       "   'weather_state_name': 'Light Rain',\n",
       "   'weather_state_abbr': 'lr',\n",
       "   'wind_direction_compass': 'SSW',\n",
       "   'created': '2020-11-04T10:40:59.373285Z',\n",
       "   'applicable_date': '2020-11-07',\n",
       "   'min_temp': 14.600000000000001,\n",
       "   'max_temp': 18.545,\n",
       "   'the_temp': 18.995,\n",
       "   'wind_speed': 8.44808104337867,\n",
       "   'wind_direction': 206.49465199152758,\n",
       "   'air_pressure': 1015.0,\n",
       "   'humidity': 72,\n",
       "   'visibility': 10.428783404915293,\n",
       "   'predictability': 75},\n",
       "  {'id': 6313524113440768,\n",
       "   'weather_state_name': 'Heavy Rain',\n",
       "   'weather_state_abbr': 'hr',\n",
       "   'wind_direction_compass': 'SSW',\n",
       "   'created': '2020-11-04T10:41:03.192465Z',\n",
       "   'applicable_date': '2020-11-08',\n",
       "   'min_temp': 15.175,\n",
       "   'max_temp': 19.1,\n",
       "   'the_temp': 19.259999999999998,\n",
       "   'wind_speed': 8.548645402404624,\n",
       "   'wind_direction': 197.73587808539094,\n",
       "   'air_pressure': 1016.5,\n",
       "   'humidity': 78,\n",
       "   'visibility': 10.133010717410322,\n",
       "   'predictability': 77},\n",
       "  {'id': 5504824721276928,\n",
       "   'weather_state_name': 'Heavy Rain',\n",
       "   'weather_state_abbr': 'hr',\n",
       "   'wind_direction_compass': 'WSW',\n",
       "   'created': '2020-11-04T10:41:05.692718Z',\n",
       "   'applicable_date': '2020-11-09',\n",
       "   'min_temp': 14.205,\n",
       "   'max_temp': 18.72,\n",
       "   'the_temp': 17.92,\n",
       "   'wind_speed': 2.9995243776346143,\n",
       "   'wind_direction': 237.5,\n",
       "   'air_pressure': 1019.0,\n",
       "   'humidity': 68,\n",
       "   'visibility': 9.999726596675416,\n",
       "   'predictability': 77}],\n",
       " 'time': '2020-11-04T13:29:12.920484Z',\n",
       " 'sun_rise': '2020-11-04T07:07:08.773824Z',\n",
       " 'sun_set': '2020-11-04T17:32:43.480329Z',\n",
       " 'timezone_name': 'LMT',\n",
       " 'parent': {'title': 'Portugal',\n",
       "  'location_type': 'Country',\n",
       "  'woeid': 23424925,\n",
       "  'latt_long': '39.557919,-7.844810'},\n",
       " 'sources': [{'title': 'BBC',\n",
       "   'slug': 'bbc',\n",
       "   'url': 'http://www.bbc.co.uk/weather/',\n",
       "   'crawl_rate': 360},\n",
       "  {'title': 'Forecast.io',\n",
       "   'slug': 'forecast-io',\n",
       "   'url': 'http://forecast.io/',\n",
       "   'crawl_rate': 480},\n",
       "  {'title': 'Met Office',\n",
       "   'slug': 'met-office',\n",
       "   'url': 'http://www.metoffice.gov.uk/',\n",
       "   'crawl_rate': 180},\n",
       "  {'title': 'OpenWeatherMap',\n",
       "   'slug': 'openweathermap',\n",
       "   'url': 'http://openweathermap.org/',\n",
       "   'crawl_rate': 360},\n",
       "  {'title': 'Weather Underground',\n",
       "   'slug': 'wunderground',\n",
       "   'url': 'https://www.wunderground.com/?apiref=fc30dc3cd224e19b',\n",
       "   'crawl_rate': 720},\n",
       "  {'title': 'World Weather Online',\n",
       "   'slug': 'world-weather-online',\n",
       "   'url': 'http://www.worldweatheronline.com/',\n",
       "   'crawl_rate': 360}],\n",
       " 'title': 'Lisbon',\n",
       " 'location_type': 'City',\n",
       " 'woeid': 742676,\n",
       " 'latt_long': '38.725670,-9.150370',\n",
       " 'timezone': 'Europe/Lisbon'}"
      ]
     },
     "execution_count": 37,
     "metadata": {},
     "output_type": "execute_result"
    }
   ],
   "source": [
    "weather_data"
   ]
  },
  {
   "cell_type": "code",
   "execution_count": 39,
   "metadata": {},
   "outputs": [],
   "source": [
    "forecast = weather_data['consolidated_weather']"
   ]
  },
  {
   "cell_type": "code",
   "execution_count": 42,
   "metadata": {},
   "outputs": [
    {
     "name": "stdout",
     "output_type": "stream",
     "text": [
      "Date: 2020-11-04\n",
      "Temp: 15.504999999999999\n",
      "Max Temp: 14.74\n",
      "Min Temp: 11.535\n",
      "Humidity: 59\n",
      "Wind Speed: 8.473419586107797\n",
      "Wind Direction: 9.0\n",
      "\n",
      "\n",
      "Date: 2020-11-05\n",
      "Temp: 18.14\n",
      "Max Temp: 17.875\n",
      "Min Temp: 11.445\n",
      "Humidity: 72\n",
      "Wind Speed: 9.046109174339193\n",
      "Wind Direction: 133.67822647687996\n",
      "\n",
      "\n",
      "Date: 2020-11-06\n",
      "Temp: 16.165\n",
      "Max Temp: 16.015\n",
      "Min Temp: 13.515\n",
      "Humidity: 88\n",
      "Wind Speed: 7.883805591744213\n",
      "Wind Direction: 139.00183529164\n",
      "\n",
      "\n",
      "Date: 2020-11-07\n",
      "Temp: 18.995\n",
      "Max Temp: 18.545\n",
      "Min Temp: 14.600000000000001\n",
      "Humidity: 72\n",
      "Wind Speed: 8.44808104337867\n",
      "Wind Direction: 206.49465199152758\n",
      "\n",
      "\n",
      "Date: 2020-11-08\n",
      "Temp: 19.259999999999998\n",
      "Max Temp: 19.1\n",
      "Min Temp: 15.175\n",
      "Humidity: 78\n",
      "Wind Speed: 8.548645402404624\n",
      "Wind Direction: 197.73587808539094\n",
      "\n",
      "\n",
      "Date: 2020-11-09\n",
      "Temp: 17.92\n",
      "Max Temp: 18.72\n",
      "Min Temp: 14.205\n",
      "Humidity: 68\n",
      "Wind Speed: 2.9995243776346143\n",
      "Wind Direction: 237.5\n",
      "\n",
      "\n"
     ]
    }
   ],
   "source": [
    "for day in forecast:\n",
    "    print(f\"Date: {day['applicable_date']}\")\n",
    "    print(f\"Temp: {day['the_temp']}\")\n",
    "    print(f\"Max Temp: {day['max_temp']}\")\n",
    "    print(f\"Min Temp: {day['min_temp']}\")\n",
    "    print(f\"Humidity: {day['humidity']}\")\n",
    "    print(f\"Wind Speed: {day['wind_speed']}\")\n",
    "    print(f\"Wind Direction: {day['wind_direction']}\")\n",
    "    print(\"\\n\")"
   ]
  },
  {
   "cell_type": "code",
   "execution_count": null,
   "metadata": {},
   "outputs": [],
   "source": []
  }
 ],
 "metadata": {
  "kernelspec": {
   "display_name": "Python 3",
   "language": "python",
   "name": "python3"
  },
  "language_info": {
   "codemirror_mode": {
    "name": "ipython",
    "version": 3
   },
   "file_extension": ".py",
   "mimetype": "text/x-python",
   "name": "python",
   "nbconvert_exporter": "python",
   "pygments_lexer": "ipython3",
   "version": "3.7.7"
  }
 },
 "nbformat": 4,
 "nbformat_minor": 4
}
